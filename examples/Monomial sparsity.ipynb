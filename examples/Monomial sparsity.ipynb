{
 "cells": [
  {
   "cell_type": "markdown",
   "metadata": {},
   "source": [
    "Example 4.2 of [MWL20].\n",
    "\n",
    "[WML19] Wang, Jie, Victor Magron, and Jean-Bernard Lasserre. \"TSSOS: A Moment-SOS hierarchy that exploits term sparsity.\" arXiv preprint arXiv:1912.08899 (2019)."
   ]
  },
  {
   "cell_type": "code",
   "execution_count": 5,
   "metadata": {},
   "outputs": [
    {
     "data": {
      "text/latex": [
       "$$ x_{1}^{4} + x_{2}^{4} + x_{3}^{4} + x_{1}x_{2}x_{3} + x_{2} + 1 $$"
      ],
      "text/plain": [
       "x₁⁴ + x₂⁴ + x₃⁴ + x₁x₂x₃ + x₂ + 1"
      ]
     },
     "execution_count": 5,
     "metadata": {},
     "output_type": "execute_result"
    }
   ],
   "source": [
    "using DynamicPolynomials\n",
    "@polyvar x[1:3]\n",
    "f = 1 + x[1]^4 + x[2]^4 + x[3]^4 + prod(x) + x[2]"
   ]
  },
  {
   "cell_type": "code",
   "execution_count": 7,
   "metadata": {},
   "outputs": [
    {
     "data": {
      "text/plain": [
       "10-element MonomialVector{true}:\n",
       " x₁²\n",
       " x₁x₂\n",
       " x₁x₃\n",
       " x₂²\n",
       " x₂x₃\n",
       " x₃²\n",
       " x₁\n",
       " x₂\n",
       " x₃\n",
       " 1"
      ]
     },
     "execution_count": 7,
     "metadata": {},
     "output_type": "execute_result"
    }
   ],
   "source": [
    "using SumOfSquares\n",
    "SumOfSquares.Certificate.monomials_half_newton_polytope(monomials(f), tuple())"
   ]
  },
  {
   "cell_type": "code",
   "execution_count": 10,
   "metadata": {},
   "outputs": [
    {
     "data": {
      "text/plain": [
       "Set{Monomial{true}} with 10 elements:\n",
       "  x₁²\n",
       "  x₂²\n",
       "  x₁x₃\n",
       "  x₂x₃\n",
       "  x₃²\n",
       "  x₁\n",
       "  x₃\n",
       "  x₁x₂\n",
       "  x₂\n",
       "  1"
      ]
     },
     "execution_count": 10,
     "metadata": {},
     "output_type": "execute_result"
    }
   ],
   "source": [
    "monos = Set(monomials(x, 0:2))"
   ]
  },
  {
   "cell_type": "code",
   "execution_count": 14,
   "metadata": {},
   "outputs": [
    {
     "data": {
      "text/plain": [
       "Set{Monomial{true}} with 12 elements:\n",
       "  x₃⁴\n",
       "  x₂²x₃²\n",
       "  x₁²\n",
       "  x₁²x₃²\n",
       "  x₂⁴\n",
       "  x₂\n",
       "  x₁²x₂²\n",
       "  x₂²\n",
       "  x₁x₂x₃\n",
       "  x₃²\n",
       "  x₁⁴\n",
       "  1"
      ]
     },
     "execution_count": 14,
     "metadata": {},
     "output_type": "execute_result"
    }
   ],
   "source": [
    "P = Set(monomials(f))\n",
    "for mono in monos\n",
    "    push!(P, mono^2)\n",
    "end\n",
    "P"
   ]
  },
  {
   "cell_type": "code",
   "execution_count": 17,
   "metadata": {},
   "outputs": [
    {
     "data": {
      "text/plain": [
       "Monomial{true}-LabelledGraph with\n",
       "Nodes:\n",
       "x[1]^2, x[2]^2, x[1]*x[3], x[2]*x[3], x[3]^2, x[1], x[3], x[1]*x[2], x[2], 1, \n",
       "Edges:\n",
       "( x[1]^2, 1 )\n",
       "( x[1]^2, x[2]^2 )\n",
       "( x[1]^2, x[3]^2 )\n",
       "( x[2]^2, 1 )\n",
       "( x[2]^2, x[3]^2 )\n",
       "( x[2]^2, x[1]^2 )\n",
       "( x[1]*x[3], x[2] )\n",
       "( x[2]*x[3], x[1] )\n",
       "( x[3]^2, 1 )\n",
       "( x[3]^2, x[2]^2 )\n",
       "( x[3]^2, x[1]^2 )\n",
       "( x[1], x[2]*x[3] )\n",
       "( x[3], x[1]*x[2] )\n",
       "( x[1]*x[2], x[3] )\n",
       "( x[2], 1 )\n",
       "( x[2], x[1]*x[3] )\n",
       "( 1, x[2] )\n",
       "( 1, x[2]^2 )\n",
       "( 1, x[3]^2 )\n",
       "( 1, x[1]^2 )\n"
      ]
     },
     "execution_count": 17,
     "metadata": {},
     "output_type": "execute_result"
    }
   ],
   "source": [
    "#const CEG = SumOfSquares.Certificate.ChordalExtensionGraph\n",
    "g = CEG.LabelledGraph{monomialtype(f)}()\n",
    "for mono in monos\n",
    "    CEG.add_node!(g, mono)\n",
    "end\n",
    "for a in monos\n",
    "    for b in monos\n",
    "        if a != b && (a * b) in P\n",
    "            CEG.add_edge!(g, a, b)\n",
    "        end\n",
    "    end\n",
    "end\n",
    "g"
   ]
  },
  {
   "cell_type": "code",
   "execution_count": 18,
   "metadata": {},
   "outputs": [
    {
     "data": {
      "text/plain": [
       "(Monomial{true}-LabelledGraph with\n",
       "Nodes:\n",
       "x[1]^2, x[2]^2, x[1]*x[3], x[2]*x[3], x[3]^2, x[1], x[3], x[1]*x[2], x[2], 1, \n",
       "Edges:\n",
       "( x[1]^2, 1 )\n",
       "( x[1]^2, x[2]^2 )\n",
       "( x[1]^2, x[3]^2 )\n",
       "( x[2]^2, 1 )\n",
       "( x[2]^2, x[3]^2 )\n",
       "( x[2]^2, x[1]^2 )\n",
       "( x[1]*x[3], x[2] )\n",
       "( x[2]*x[3], x[1] )\n",
       "( x[3]^2, 1 )\n",
       "( x[3]^2, x[2]^2 )\n",
       "( x[3]^2, x[1]^2 )\n",
       "( x[1], x[2]*x[3] )\n",
       "( x[3], x[1]*x[2] )\n",
       "( x[1]*x[2], x[3] )\n",
       "( x[2], 1 )\n",
       "( x[2], x[1]*x[3] )\n",
       "( 1, x[2] )\n",
       "( 1, x[2]^2 )\n",
       "( 1, x[3]^2 )\n",
       "( 1, x[1]^2 )\n",
       ", Array{Monomial{true},1}[[x₁², x₂², x₃², 1], [x₃, x₁x₂], [x₂x₃, x₁], [x₁x₃, x₂], [x₂, 1]])"
      ]
     },
     "execution_count": 18,
     "metadata": {},
     "output_type": "execute_result"
    }
   ],
   "source": [
    "H, cliques = CEG.chordal_extension(g, CEG.GreedyFillIn())"
   ]
  },
  {
   "cell_type": "code",
   "execution_count": 24,
   "metadata": {},
   "outputs": [
    {
     "data": {
      "text/plain": [
       "Set{Monomial{true}} with 12 elements:\n",
       "  x₃⁴\n",
       "  x₂²x₃²\n",
       "  x₁²\n",
       "  x₁²x₃²\n",
       "  x₂⁴\n",
       "  x₂\n",
       "  x₁²x₂²\n",
       "  x₂²\n",
       "  x₁x₂x₃\n",
       "  x₃²\n",
       "  x₁⁴\n",
       "  1"
      ]
     },
     "execution_count": 24,
     "metadata": {},
     "output_type": "execute_result"
    }
   ],
   "source": [
    "P1 = Set{eltype(P)}()\n",
    "for a in monos\n",
    "    push!(P1, a^2)\n",
    "    for bi in H.graph.neighbors[H.n2int[a]]\n",
    "        b = H.int2n[bi]\n",
    "        push!(P1, a * b)\n",
    "    end\n",
    "end\n",
    "P1"
   ]
  },
  {
   "cell_type": "code",
   "execution_count": 23,
   "metadata": {},
   "outputs": [
    {
     "data": {
      "text/plain": [
       "Set{Monomial{true}} with 12 elements:\n",
       "  x₃⁴\n",
       "  x₂²x₃²\n",
       "  x₁²\n",
       "  x₁²x₃²\n",
       "  x₂⁴\n",
       "  x₂\n",
       "  x₁²x₂²\n",
       "  x₂²\n",
       "  x₁x₂x₃\n",
       "  x₃²\n",
       "  x₁⁴\n",
       "  1"
      ]
     },
     "execution_count": 23,
     "metadata": {},
     "output_type": "execute_result"
    }
   ],
   "source": [
    "P"
   ]
  },
  {
   "cell_type": "code",
   "execution_count": null,
   "metadata": {
    "collapsed": true
   },
   "outputs": [],
   "source": []
  }
 ],
 "metadata": {
  "kernelspec": {
   "display_name": "Julia 1.4.0",
   "language": "julia",
   "name": "julia-1.4"
  },
  "language_info": {
   "file_extension": ".jl",
   "mimetype": "application/julia",
   "name": "julia",
   "version": "1.4.0"
  }
 },
 "nbformat": 4,
 "nbformat_minor": 2
}
